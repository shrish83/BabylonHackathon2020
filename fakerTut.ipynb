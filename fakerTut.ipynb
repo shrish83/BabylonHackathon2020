{
 "metadata": {
  "language_info": {
   "codemirror_mode": {
    "name": "ipython",
    "version": 3
   },
   "file_extension": ".py",
   "mimetype": "text/x-python",
   "name": "python",
   "nbconvert_exporter": "python",
   "pygments_lexer": "ipython3",
   "version": "3.8.3-final"
  },
  "orig_nbformat": 2,
  "kernelspec": {
   "name": "Python 3.8.3 64-bit",
   "display_name": "Python 3.8.3 64-bit",
   "metadata": {
    "interpreter": {
     "hash": "f03be3766e3c437524d2d17bf3553c4cd1a66ace052a6ec45adfa86fbf075197"
    }
   }
  }
 },
 "nbformat": 4,
 "nbformat_minor": 2,
 "cells": [
  {
   "cell_type": "code",
   "execution_count": 108,
   "metadata": {},
   "outputs": [],
   "source": [
    "import numpy as np\n",
    "import pandas as pd\n",
    "import matplotlib.pyplot as plt\n",
    "from sklearn.datasets import make_blobs\n",
    "from faker import Faker"
   ]
  },
  {
   "cell_type": "code",
   "execution_count": 109,
   "metadata": {},
   "outputs": [],
   "source": [
    "df = pd.read_csv(\"data.csv\")"
   ]
  },
  {
   "cell_type": "code",
   "execution_count": 110,
   "metadata": {},
   "outputs": [
    {
     "output_type": "execute_result",
     "data": {
      "text/plain": [
       "(1877, 19)"
      ]
     },
     "metadata": {},
     "execution_count": 110
    }
   ],
   "source": [
    "df.shape"
   ]
  },
  {
   "cell_type": "code",
   "execution_count": 111,
   "metadata": {},
   "outputs": [
    {
     "output_type": "execute_result",
     "data": {
      "text/plain": [
       "   ID            Name of Business  \\\n",
       "0   1            C to C Tile, inc   \n",
       "1   2       Con Artist Collective   \n",
       "2   3     Coffee Project New York   \n",
       "3   4          Golden Bridge Yoga   \n",
       "4   5    Three Guys from Brooklyn   \n",
       "5   6                 NYC iRepair   \n",
       "6   7  Macaron Parlour - Columbus   \n",
       "7   8                Meow Parlour   \n",
       "8   9    Macaron Parlour - Hester   \n",
       "9  10            Mystery Room NYC   \n",
       "\n",
       "                                   Short Description  \\\n",
       "0                         Tile Designs and Solutions   \n",
       "1                         Art Gallery and Collective   \n",
       "2                                        Coffee Shop   \n",
       "3  Kundalini Yoga Studio and Holistic Store with ...   \n",
       "4  Grocery store featuring Fresh Fruit and Vegeta...   \n",
       "5                                 iPhone Repair Shop   \n",
       "6                                             Bakery   \n",
       "7                                           Cat Cafe   \n",
       "8                                             Bakery   \n",
       "9                                        Escape Room   \n",
       "\n",
       "                       Address      City State Postcode    Phone Number  \\\n",
       "0              48 west 21st st  New York    NY    10024  (347) 820-2113   \n",
       "1               119 Ludlow st.  New York    NY    10002  (646) 504-2323   \n",
       "2             239 E 5th Street  New York    NY    10003  (212) 228-7888   \n",
       "3            253 Centre Street  New York    NY    10013  (212) 343-8191   \n",
       "4      6502 Fort Hamilton Pkwy  Brooklyn    NY    11219  (718) 748-8340   \n",
       "5  147 West 35th St Suite 1206  New York    NY    10001  (212) 777-6955   \n",
       "6            560 Columbus Ave.  New York    NY    10024  (212) 799-9169   \n",
       "7             46 Hester Street  New York    NY    10002  (212) 387-9169   \n",
       "8             44 Hester Street  New York    NY    10002  (212) 387-9169   \n",
       "9            190 Mercer Street  New York    NY    10012  (302) 401-1373   \n",
       "\n",
       "  Which type of business is this?     Business Website or Other URL  \\\n",
       "0                          Retail           http://www.ctoctile.com   \n",
       "1                          Retail           http://conartistnyc.com   \n",
       "2               Food and Beverage    http://www.coffeeprojectny.com   \n",
       "3                         Service   http://www.goldenbridgeyoga.com   \n",
       "4                          Retail  http://www.3guysfrombrooklyn.com   \n",
       "5                         Service         http://www.nycirepair.com   \n",
       "6               Food and Beverage     http://www.macaronparlour.com   \n",
       "7                           Other        http://www.meowparlour.com   \n",
       "8               Food and Beverage     http://www.macaronparlour.com   \n",
       "9                         Service     http://www.mysteryroomnyc.com   \n",
       "\n",
       "     Borough   Latitude  Longitude  Community Board  Council District  \\\n",
       "0  MANHATTAN  40.740915 -73.992083              5.0               3.0   \n",
       "1  MANHATTAN  40.719585 -73.988618              3.0               1.0   \n",
       "2  MANHATTAN  40.727345 -73.990305              3.0               2.0   \n",
       "3  MANHATTAN  40.720478 -73.997962              2.0               1.0   \n",
       "4  BROOKLYN   40.630553 -74.009360             10.0              38.0   \n",
       "5  MANHATTAN  40.751123 -73.988844              5.0               3.0   \n",
       "6  MANHATTAN  40.787312 -73.971587              7.0               6.0   \n",
       "7  MANHATTAN  40.715680 -73.990203              3.0               1.0   \n",
       "8  MANHATTAN  40.715655 -73.990123              3.0               1.0   \n",
       "9  MANHATTAN  40.726300 -73.997175              2.0               1.0   \n",
       "\n",
       "   Census Tract        BIN           BBL  \\\n",
       "0          54.0  1015510.0  1.008220e+09   \n",
       "1          18.0  1005315.0  1.004100e+09   \n",
       "2          38.0  1006629.0  1.004610e+09   \n",
       "3          45.0  1007004.0  1.004720e+09   \n",
       "4         120.0  3328767.0  3.057500e+09   \n",
       "5         109.0  1015224.0  1.008110e+09   \n",
       "6         173.0  1032246.0  1.012188e+09   \n",
       "7          16.0  1003810.0  1.002970e+09   \n",
       "8          16.0  1003811.0  1.002970e+09   \n",
       "9        5501.0  1008239.0  1.005230e+09   \n",
       "\n",
       "                                                 NTA  \n",
       "0  Hudson Yards-Chelsea-Flatiron-Union Square    ...  \n",
       "1  Chinatown                                     ...  \n",
       "2  East Village                                  ...  \n",
       "3  SoHo-TriBeCa-Civic Center-Little Italy        ...  \n",
       "4  Sunset Park East                              ...  \n",
       "5  Midtown-Midtown South                         ...  \n",
       "6  Upper West Side                               ...  \n",
       "7  Chinatown                                     ...  \n",
       "8  Chinatown                                     ...  \n",
       "9  West Village                                  ...  "
      ],
      "text/html": "<div>\n<style scoped>\n    .dataframe tbody tr th:only-of-type {\n        vertical-align: middle;\n    }\n\n    .dataframe tbody tr th {\n        vertical-align: top;\n    }\n\n    .dataframe thead th {\n        text-align: right;\n    }\n</style>\n<table border=\"1\" class=\"dataframe\">\n  <thead>\n    <tr style=\"text-align: right;\">\n      <th></th>\n      <th>ID</th>\n      <th>Name of Business</th>\n      <th>Short Description</th>\n      <th>Address</th>\n      <th>City</th>\n      <th>State</th>\n      <th>Postcode</th>\n      <th>Phone Number</th>\n      <th>Which type of business is this?</th>\n      <th>Business Website or Other URL</th>\n      <th>Borough</th>\n      <th>Latitude</th>\n      <th>Longitude</th>\n      <th>Community Board</th>\n      <th>Council District</th>\n      <th>Census Tract</th>\n      <th>BIN</th>\n      <th>BBL</th>\n      <th>NTA</th>\n    </tr>\n  </thead>\n  <tbody>\n    <tr>\n      <th>0</th>\n      <td>1</td>\n      <td>C to C Tile, inc</td>\n      <td>Tile Designs and Solutions</td>\n      <td>48 west 21st st</td>\n      <td>New York</td>\n      <td>NY</td>\n      <td>10024</td>\n      <td>(347) 820-2113</td>\n      <td>Retail</td>\n      <td>http://www.ctoctile.com</td>\n      <td>MANHATTAN</td>\n      <td>40.740915</td>\n      <td>-73.992083</td>\n      <td>5.0</td>\n      <td>3.0</td>\n      <td>54.0</td>\n      <td>1015510.0</td>\n      <td>1.008220e+09</td>\n      <td>Hudson Yards-Chelsea-Flatiron-Union Square    ...</td>\n    </tr>\n    <tr>\n      <th>1</th>\n      <td>2</td>\n      <td>Con Artist Collective</td>\n      <td>Art Gallery and Collective</td>\n      <td>119 Ludlow st.</td>\n      <td>New York</td>\n      <td>NY</td>\n      <td>10002</td>\n      <td>(646) 504-2323</td>\n      <td>Retail</td>\n      <td>http://conartistnyc.com</td>\n      <td>MANHATTAN</td>\n      <td>40.719585</td>\n      <td>-73.988618</td>\n      <td>3.0</td>\n      <td>1.0</td>\n      <td>18.0</td>\n      <td>1005315.0</td>\n      <td>1.004100e+09</td>\n      <td>Chinatown                                     ...</td>\n    </tr>\n    <tr>\n      <th>2</th>\n      <td>3</td>\n      <td>Coffee Project New York</td>\n      <td>Coffee Shop</td>\n      <td>239 E 5th Street</td>\n      <td>New York</td>\n      <td>NY</td>\n      <td>10003</td>\n      <td>(212) 228-7888</td>\n      <td>Food and Beverage</td>\n      <td>http://www.coffeeprojectny.com</td>\n      <td>MANHATTAN</td>\n      <td>40.727345</td>\n      <td>-73.990305</td>\n      <td>3.0</td>\n      <td>2.0</td>\n      <td>38.0</td>\n      <td>1006629.0</td>\n      <td>1.004610e+09</td>\n      <td>East Village                                  ...</td>\n    </tr>\n    <tr>\n      <th>3</th>\n      <td>4</td>\n      <td>Golden Bridge Yoga</td>\n      <td>Kundalini Yoga Studio and Holistic Store with ...</td>\n      <td>253 Centre Street</td>\n      <td>New York</td>\n      <td>NY</td>\n      <td>10013</td>\n      <td>(212) 343-8191</td>\n      <td>Service</td>\n      <td>http://www.goldenbridgeyoga.com</td>\n      <td>MANHATTAN</td>\n      <td>40.720478</td>\n      <td>-73.997962</td>\n      <td>2.0</td>\n      <td>1.0</td>\n      <td>45.0</td>\n      <td>1007004.0</td>\n      <td>1.004720e+09</td>\n      <td>SoHo-TriBeCa-Civic Center-Little Italy        ...</td>\n    </tr>\n    <tr>\n      <th>4</th>\n      <td>5</td>\n      <td>Three Guys from Brooklyn</td>\n      <td>Grocery store featuring Fresh Fruit and Vegeta...</td>\n      <td>6502 Fort Hamilton Pkwy</td>\n      <td>Brooklyn</td>\n      <td>NY</td>\n      <td>11219</td>\n      <td>(718) 748-8340</td>\n      <td>Retail</td>\n      <td>http://www.3guysfrombrooklyn.com</td>\n      <td>BROOKLYN</td>\n      <td>40.630553</td>\n      <td>-74.009360</td>\n      <td>10.0</td>\n      <td>38.0</td>\n      <td>120.0</td>\n      <td>3328767.0</td>\n      <td>3.057500e+09</td>\n      <td>Sunset Park East                              ...</td>\n    </tr>\n    <tr>\n      <th>5</th>\n      <td>6</td>\n      <td>NYC iRepair</td>\n      <td>iPhone Repair Shop</td>\n      <td>147 West 35th St Suite 1206</td>\n      <td>New York</td>\n      <td>NY</td>\n      <td>10001</td>\n      <td>(212) 777-6955</td>\n      <td>Service</td>\n      <td>http://www.nycirepair.com</td>\n      <td>MANHATTAN</td>\n      <td>40.751123</td>\n      <td>-73.988844</td>\n      <td>5.0</td>\n      <td>3.0</td>\n      <td>109.0</td>\n      <td>1015224.0</td>\n      <td>1.008110e+09</td>\n      <td>Midtown-Midtown South                         ...</td>\n    </tr>\n    <tr>\n      <th>6</th>\n      <td>7</td>\n      <td>Macaron Parlour - Columbus</td>\n      <td>Bakery</td>\n      <td>560 Columbus Ave.</td>\n      <td>New York</td>\n      <td>NY</td>\n      <td>10024</td>\n      <td>(212) 799-9169</td>\n      <td>Food and Beverage</td>\n      <td>http://www.macaronparlour.com</td>\n      <td>MANHATTAN</td>\n      <td>40.787312</td>\n      <td>-73.971587</td>\n      <td>7.0</td>\n      <td>6.0</td>\n      <td>173.0</td>\n      <td>1032246.0</td>\n      <td>1.012188e+09</td>\n      <td>Upper West Side                               ...</td>\n    </tr>\n    <tr>\n      <th>7</th>\n      <td>8</td>\n      <td>Meow Parlour</td>\n      <td>Cat Cafe</td>\n      <td>46 Hester Street</td>\n      <td>New York</td>\n      <td>NY</td>\n      <td>10002</td>\n      <td>(212) 387-9169</td>\n      <td>Other</td>\n      <td>http://www.meowparlour.com</td>\n      <td>MANHATTAN</td>\n      <td>40.715680</td>\n      <td>-73.990203</td>\n      <td>3.0</td>\n      <td>1.0</td>\n      <td>16.0</td>\n      <td>1003810.0</td>\n      <td>1.002970e+09</td>\n      <td>Chinatown                                     ...</td>\n    </tr>\n    <tr>\n      <th>8</th>\n      <td>9</td>\n      <td>Macaron Parlour - Hester</td>\n      <td>Bakery</td>\n      <td>44 Hester Street</td>\n      <td>New York</td>\n      <td>NY</td>\n      <td>10002</td>\n      <td>(212) 387-9169</td>\n      <td>Food and Beverage</td>\n      <td>http://www.macaronparlour.com</td>\n      <td>MANHATTAN</td>\n      <td>40.715655</td>\n      <td>-73.990123</td>\n      <td>3.0</td>\n      <td>1.0</td>\n      <td>16.0</td>\n      <td>1003811.0</td>\n      <td>1.002970e+09</td>\n      <td>Chinatown                                     ...</td>\n    </tr>\n    <tr>\n      <th>9</th>\n      <td>10</td>\n      <td>Mystery Room NYC</td>\n      <td>Escape Room</td>\n      <td>190 Mercer Street</td>\n      <td>New York</td>\n      <td>NY</td>\n      <td>10012</td>\n      <td>(302) 401-1373</td>\n      <td>Service</td>\n      <td>http://www.mysteryroomnyc.com</td>\n      <td>MANHATTAN</td>\n      <td>40.726300</td>\n      <td>-73.997175</td>\n      <td>2.0</td>\n      <td>1.0</td>\n      <td>5501.0</td>\n      <td>1008239.0</td>\n      <td>1.005230e+09</td>\n      <td>West Village                                  ...</td>\n    </tr>\n  </tbody>\n</table>\n</div>"
     },
     "metadata": {},
     "execution_count": 111
    }
   ],
   "source": [
    "df.head(10)"
   ]
  },
  {
   "cell_type": "code",
   "execution_count": 112,
   "metadata": {},
   "outputs": [],
   "source": [
    "fake = Faker()\n",
    "price_tag = list()\n",
    "for i in range(1877):\n",
    "    price_tag.append(fake.random_int(0,5))\n",
    "df[\"Price Tag\"] = price_tag\n",
    "\n",
    "rate = list()\n",
    "for i in range(1877):\n",
    "    rate.append(fake.random_int(1,5))\n",
    "df[\"Ratings\"] = rate"
   ]
  },
  {
   "cell_type": "code",
   "execution_count": 113,
   "metadata": {},
   "outputs": [
    {
     "output_type": "execute_result",
     "data": {
      "text/plain": [
       "   ID          Name of Business  \\\n",
       "0   1          C to C Tile, inc   \n",
       "1   2     Con Artist Collective   \n",
       "2   3   Coffee Project New York   \n",
       "3   4        Golden Bridge Yoga   \n",
       "4   5  Three Guys from Brooklyn   \n",
       "\n",
       "                                   Short Description                  Address  \\\n",
       "0                         Tile Designs and Solutions          48 west 21st st   \n",
       "1                         Art Gallery and Collective           119 Ludlow st.   \n",
       "2                                        Coffee Shop         239 E 5th Street   \n",
       "3  Kundalini Yoga Studio and Holistic Store with ...        253 Centre Street   \n",
       "4  Grocery store featuring Fresh Fruit and Vegeta...  6502 Fort Hamilton Pkwy   \n",
       "\n",
       "       City State Postcode    Phone Number Which type of business is this?  \\\n",
       "0  New York    NY    10024  (347) 820-2113                          Retail   \n",
       "1  New York    NY    10002  (646) 504-2323                          Retail   \n",
       "2  New York    NY    10003  (212) 228-7888               Food and Beverage   \n",
       "3  New York    NY    10013  (212) 343-8191                         Service   \n",
       "4  Brooklyn    NY    11219  (718) 748-8340                          Retail   \n",
       "\n",
       "      Business Website or Other URL  ...   Latitude  Longitude  \\\n",
       "0           http://www.ctoctile.com  ...  40.740915 -73.992083   \n",
       "1           http://conartistnyc.com  ...  40.719585 -73.988618   \n",
       "2    http://www.coffeeprojectny.com  ...  40.727345 -73.990305   \n",
       "3   http://www.goldenbridgeyoga.com  ...  40.720478 -73.997962   \n",
       "4  http://www.3guysfrombrooklyn.com  ...  40.630553 -74.009360   \n",
       "\n",
       "   Community Board  Council District  Census Tract        BIN           BBL  \\\n",
       "0              5.0               3.0          54.0  1015510.0  1.008220e+09   \n",
       "1              3.0               1.0          18.0  1005315.0  1.004100e+09   \n",
       "2              3.0               2.0          38.0  1006629.0  1.004610e+09   \n",
       "3              2.0               1.0          45.0  1007004.0  1.004720e+09   \n",
       "4             10.0              38.0         120.0  3328767.0  3.057500e+09   \n",
       "\n",
       "                                                 NTA Price Tag  Ratings  \n",
       "0  Hudson Yards-Chelsea-Flatiron-Union Square    ...         4        4  \n",
       "1  Chinatown                                     ...         4        3  \n",
       "2  East Village                                  ...         4        2  \n",
       "3  SoHo-TriBeCa-Civic Center-Little Italy        ...         4        4  \n",
       "4  Sunset Park East                              ...         0        1  \n",
       "\n",
       "[5 rows x 21 columns]"
      ],
      "text/html": "<div>\n<style scoped>\n    .dataframe tbody tr th:only-of-type {\n        vertical-align: middle;\n    }\n\n    .dataframe tbody tr th {\n        vertical-align: top;\n    }\n\n    .dataframe thead th {\n        text-align: right;\n    }\n</style>\n<table border=\"1\" class=\"dataframe\">\n  <thead>\n    <tr style=\"text-align: right;\">\n      <th></th>\n      <th>ID</th>\n      <th>Name of Business</th>\n      <th>Short Description</th>\n      <th>Address</th>\n      <th>City</th>\n      <th>State</th>\n      <th>Postcode</th>\n      <th>Phone Number</th>\n      <th>Which type of business is this?</th>\n      <th>Business Website or Other URL</th>\n      <th>...</th>\n      <th>Latitude</th>\n      <th>Longitude</th>\n      <th>Community Board</th>\n      <th>Council District</th>\n      <th>Census Tract</th>\n      <th>BIN</th>\n      <th>BBL</th>\n      <th>NTA</th>\n      <th>Price Tag</th>\n      <th>Ratings</th>\n    </tr>\n  </thead>\n  <tbody>\n    <tr>\n      <th>0</th>\n      <td>1</td>\n      <td>C to C Tile, inc</td>\n      <td>Tile Designs and Solutions</td>\n      <td>48 west 21st st</td>\n      <td>New York</td>\n      <td>NY</td>\n      <td>10024</td>\n      <td>(347) 820-2113</td>\n      <td>Retail</td>\n      <td>http://www.ctoctile.com</td>\n      <td>...</td>\n      <td>40.740915</td>\n      <td>-73.992083</td>\n      <td>5.0</td>\n      <td>3.0</td>\n      <td>54.0</td>\n      <td>1015510.0</td>\n      <td>1.008220e+09</td>\n      <td>Hudson Yards-Chelsea-Flatiron-Union Square    ...</td>\n      <td>4</td>\n      <td>4</td>\n    </tr>\n    <tr>\n      <th>1</th>\n      <td>2</td>\n      <td>Con Artist Collective</td>\n      <td>Art Gallery and Collective</td>\n      <td>119 Ludlow st.</td>\n      <td>New York</td>\n      <td>NY</td>\n      <td>10002</td>\n      <td>(646) 504-2323</td>\n      <td>Retail</td>\n      <td>http://conartistnyc.com</td>\n      <td>...</td>\n      <td>40.719585</td>\n      <td>-73.988618</td>\n      <td>3.0</td>\n      <td>1.0</td>\n      <td>18.0</td>\n      <td>1005315.0</td>\n      <td>1.004100e+09</td>\n      <td>Chinatown                                     ...</td>\n      <td>4</td>\n      <td>3</td>\n    </tr>\n    <tr>\n      <th>2</th>\n      <td>3</td>\n      <td>Coffee Project New York</td>\n      <td>Coffee Shop</td>\n      <td>239 E 5th Street</td>\n      <td>New York</td>\n      <td>NY</td>\n      <td>10003</td>\n      <td>(212) 228-7888</td>\n      <td>Food and Beverage</td>\n      <td>http://www.coffeeprojectny.com</td>\n      <td>...</td>\n      <td>40.727345</td>\n      <td>-73.990305</td>\n      <td>3.0</td>\n      <td>2.0</td>\n      <td>38.0</td>\n      <td>1006629.0</td>\n      <td>1.004610e+09</td>\n      <td>East Village                                  ...</td>\n      <td>4</td>\n      <td>2</td>\n    </tr>\n    <tr>\n      <th>3</th>\n      <td>4</td>\n      <td>Golden Bridge Yoga</td>\n      <td>Kundalini Yoga Studio and Holistic Store with ...</td>\n      <td>253 Centre Street</td>\n      <td>New York</td>\n      <td>NY</td>\n      <td>10013</td>\n      <td>(212) 343-8191</td>\n      <td>Service</td>\n      <td>http://www.goldenbridgeyoga.com</td>\n      <td>...</td>\n      <td>40.720478</td>\n      <td>-73.997962</td>\n      <td>2.0</td>\n      <td>1.0</td>\n      <td>45.0</td>\n      <td>1007004.0</td>\n      <td>1.004720e+09</td>\n      <td>SoHo-TriBeCa-Civic Center-Little Italy        ...</td>\n      <td>4</td>\n      <td>4</td>\n    </tr>\n    <tr>\n      <th>4</th>\n      <td>5</td>\n      <td>Three Guys from Brooklyn</td>\n      <td>Grocery store featuring Fresh Fruit and Vegeta...</td>\n      <td>6502 Fort Hamilton Pkwy</td>\n      <td>Brooklyn</td>\n      <td>NY</td>\n      <td>11219</td>\n      <td>(718) 748-8340</td>\n      <td>Retail</td>\n      <td>http://www.3guysfrombrooklyn.com</td>\n      <td>...</td>\n      <td>40.630553</td>\n      <td>-74.009360</td>\n      <td>10.0</td>\n      <td>38.0</td>\n      <td>120.0</td>\n      <td>3328767.0</td>\n      <td>3.057500e+09</td>\n      <td>Sunset Park East                              ...</td>\n      <td>0</td>\n      <td>1</td>\n    </tr>\n  </tbody>\n</table>\n<p>5 rows × 21 columns</p>\n</div>"
     },
     "metadata": {},
     "execution_count": 113
    }
   ],
   "source": [
    "\n",
    "df.head(5)"
   ]
  },
  {
   "cell_type": "code",
   "execution_count": 114,
   "metadata": {},
   "outputs": [
    {
     "output_type": "stream",
     "name": "stdout",
     "text": [
      "Columns with missing values: \n['Short Description', 'Postcode', 'Phone Number', 'Business Website or Other URL', 'Borough', 'Latitude', 'Longitude', 'Community Board', 'Council District', 'Census Tract', 'BIN', 'BBL', 'NTA']\n"
     ]
    }
   ],
   "source": [
    "#Find columns with Nans in them\n",
    "print(\"Columns with missing values: \")\n",
    "print(df.columns[df.isnull().any()].tolist())"
   ]
  },
  {
   "cell_type": "code",
   "execution_count": 115,
   "metadata": {},
   "outputs": [
    {
     "output_type": "stream",
     "name": "stdout",
     "text": [
      "ID                                   0\nName of Business                     0\nShort Description                    8\nAddress                              0\nCity                                 0\nState                                0\nPostcode                            18\nPhone Number                       229\nWhich type of business is this?      0\nBusiness Website or Other URL      403\nBorough                             81\nLatitude                            81\nLongitude                           81\nCommunity Board                     81\nCouncil District                    81\nCensus Tract                        81\nBIN                                100\nBBL                                100\nNTA                                 81\nPrice Tag                            0\nRatings                              0\ndtype: int64\n"
     ]
    }
   ],
   "source": [
    "print(df.isnull().sum())"
   ]
  },
  {
   "cell_type": "code",
   "execution_count": 116,
   "metadata": {},
   "outputs": [],
   "source": [
    "most_frequent_bbl = df['BBL'].value_counts().idxmax()\n",
    "df['BBL'] = df['BBL'].fillna(most_frequent_bbl)\n",
    "most_frequent_nta = df['NTA'].value_counts().idxmax()\n",
    "df['NTA'] = df['NTA'].fillna(most_frequent_nta)"
   ]
  },
  {
   "cell_type": "code",
   "execution_count": 117,
   "metadata": {},
   "outputs": [
    {
     "output_type": "stream",
     "name": "stdout",
     "text": [
      "ID                                   0\nName of Business                     0\nShort Description                    8\nAddress                              0\nCity                                 0\nState                                0\nPostcode                            18\nPhone Number                       229\nWhich type of business is this?      0\nBusiness Website or Other URL      403\nBorough                             81\nLatitude                            81\nLongitude                           81\nCommunity Board                     81\nCouncil District                    81\nCensus Tract                        81\nBIN                                100\nBBL                                  0\nNTA                                  0\nPrice Tag                            0\nRatings                              0\ndtype: int64\n"
     ]
    }
   ],
   "source": [
    "print(df.isnull().sum())"
   ]
  },
  {
   "cell_type": "code",
   "execution_count": 118,
   "metadata": {},
   "outputs": [],
   "source": [
    "#print(\"Before dropping - \" + str(len(df)) + \" rows\")\n",
    "#df = df[~df['Business Website or Other URL','Community #Board','Sensus Tract','BIN','BBL','NTA'].isna()]\n",
    "#print(\"After dropping - \" + str(len(df)) + \" rows\")\n",
    "df.drop(df.columns[[8,12,14,15,16,17]],axis =1,inplace=True)"
   ]
  },
  {
   "cell_type": "code",
   "execution_count": 119,
   "metadata": {},
   "outputs": [
    {
     "output_type": "stream",
     "name": "stdout",
     "text": [
      "ID                                 0\nName of Business                   0\nShort Description                  8\nAddress                            0\nCity                               0\nState                              0\nPostcode                          18\nPhone Number                     229\nBusiness Website or Other URL    403\nBorough                           81\nLatitude                          81\nCommunity Board                   81\nNTA                                0\nPrice Tag                          0\nRatings                            0\ndtype: int64\n"
     ]
    }
   ],
   "source": [
    "print(df.isnull().sum())"
   ]
  },
  {
   "cell_type": "code",
   "execution_count": 120,
   "metadata": {},
   "outputs": [],
   "source": [
    "most_frequent_bor = df['Borough'].value_counts().idxmax()\n",
    "df['Borough'] = df['Borough'].fillna(most_frequent_bor)"
   ]
  },
  {
   "cell_type": "code",
   "execution_count": 121,
   "metadata": {},
   "outputs": [
    {
     "output_type": "stream",
     "name": "stdout",
     "text": [
      "ID                                 0\nName of Business                   0\nShort Description                  8\nAddress                            0\nCity                               0\nState                              0\nPostcode                          18\nPhone Number                     229\nBusiness Website or Other URL    403\nBorough                            0\nLatitude                          81\nCommunity Board                   81\nNTA                                0\nPrice Tag                          0\nRatings                            0\ndtype: int64\n"
     ]
    }
   ],
   "source": [
    "print(df.isnull().sum())"
   ]
  },
  {
   "cell_type": "code",
   "execution_count": 122,
   "metadata": {},
   "outputs": [],
   "source": [
    "##Simple Recommender : offer generalized recommendations to every user, based on movie popularity and/or genre. The basic idea behind this system is that movies that are more popular and critically acclaimed will have a higher probability of being liked by the average audience. An example could be IMDB Top 250.\n",
    "\n",
    "#Creating a column \"No of Votes\" for a particular store\n",
    "NumVotes = list()\n",
    "for i in range(1877):\n",
    "    NumVotes.append(fake.random_int(0,10000))\n",
    "df[\"Number of Votes\"] = NumVotes\n",
    "\n",
    "import random\n",
    "\n",
    "AvgRate = list()\n",
    "for i in range(1877):\n",
    "    AvgRate.append(random.uniform(0.0,5.0))\n",
    "df[\"Average Rating\"] =  AvgRate"
   ]
  },
  {
   "cell_type": "code",
   "execution_count": 123,
   "metadata": {},
   "outputs": [
    {
     "output_type": "execute_result",
     "data": {
      "text/plain": [
       "   ID          Name of Business  \\\n",
       "0   1          C to C Tile, inc   \n",
       "1   2     Con Artist Collective   \n",
       "2   3   Coffee Project New York   \n",
       "3   4        Golden Bridge Yoga   \n",
       "4   5  Three Guys from Brooklyn   \n",
       "\n",
       "                                   Short Description                  Address  \\\n",
       "0                         Tile Designs and Solutions          48 west 21st st   \n",
       "1                         Art Gallery and Collective           119 Ludlow st.   \n",
       "2                                        Coffee Shop         239 E 5th Street   \n",
       "3  Kundalini Yoga Studio and Holistic Store with ...        253 Centre Street   \n",
       "4  Grocery store featuring Fresh Fruit and Vegeta...  6502 Fort Hamilton Pkwy   \n",
       "\n",
       "       City State Postcode    Phone Number     Business Website or Other URL  \\\n",
       "0  New York    NY    10024  (347) 820-2113           http://www.ctoctile.com   \n",
       "1  New York    NY    10002  (646) 504-2323           http://conartistnyc.com   \n",
       "2  New York    NY    10003  (212) 228-7888    http://www.coffeeprojectny.com   \n",
       "3  New York    NY    10013  (212) 343-8191   http://www.goldenbridgeyoga.com   \n",
       "4  Brooklyn    NY    11219  (718) 748-8340  http://www.3guysfrombrooklyn.com   \n",
       "\n",
       "     Borough   Latitude  Community Board  \\\n",
       "0  MANHATTAN  40.740915              5.0   \n",
       "1  MANHATTAN  40.719585              3.0   \n",
       "2  MANHATTAN  40.727345              3.0   \n",
       "3  MANHATTAN  40.720478              2.0   \n",
       "4  BROOKLYN   40.630553             10.0   \n",
       "\n",
       "                                                 NTA  Price Tag  Ratings  \\\n",
       "0  Hudson Yards-Chelsea-Flatiron-Union Square    ...          4        4   \n",
       "1  Chinatown                                     ...          4        3   \n",
       "2  East Village                                  ...          4        2   \n",
       "3  SoHo-TriBeCa-Civic Center-Little Italy        ...          4        4   \n",
       "4  Sunset Park East                              ...          0        1   \n",
       "\n",
       "   Number of Votes  Average Rating  \n",
       "0             4338        1.807128  \n",
       "1             5938        1.796073  \n",
       "2             5379        4.117318  \n",
       "3             2270        2.943465  \n",
       "4             6598        2.361853  "
      ],
      "text/html": "<div>\n<style scoped>\n    .dataframe tbody tr th:only-of-type {\n        vertical-align: middle;\n    }\n\n    .dataframe tbody tr th {\n        vertical-align: top;\n    }\n\n    .dataframe thead th {\n        text-align: right;\n    }\n</style>\n<table border=\"1\" class=\"dataframe\">\n  <thead>\n    <tr style=\"text-align: right;\">\n      <th></th>\n      <th>ID</th>\n      <th>Name of Business</th>\n      <th>Short Description</th>\n      <th>Address</th>\n      <th>City</th>\n      <th>State</th>\n      <th>Postcode</th>\n      <th>Phone Number</th>\n      <th>Business Website or Other URL</th>\n      <th>Borough</th>\n      <th>Latitude</th>\n      <th>Community Board</th>\n      <th>NTA</th>\n      <th>Price Tag</th>\n      <th>Ratings</th>\n      <th>Number of Votes</th>\n      <th>Average Rating</th>\n    </tr>\n  </thead>\n  <tbody>\n    <tr>\n      <th>0</th>\n      <td>1</td>\n      <td>C to C Tile, inc</td>\n      <td>Tile Designs and Solutions</td>\n      <td>48 west 21st st</td>\n      <td>New York</td>\n      <td>NY</td>\n      <td>10024</td>\n      <td>(347) 820-2113</td>\n      <td>http://www.ctoctile.com</td>\n      <td>MANHATTAN</td>\n      <td>40.740915</td>\n      <td>5.0</td>\n      <td>Hudson Yards-Chelsea-Flatiron-Union Square    ...</td>\n      <td>4</td>\n      <td>4</td>\n      <td>4338</td>\n      <td>1.807128</td>\n    </tr>\n    <tr>\n      <th>1</th>\n      <td>2</td>\n      <td>Con Artist Collective</td>\n      <td>Art Gallery and Collective</td>\n      <td>119 Ludlow st.</td>\n      <td>New York</td>\n      <td>NY</td>\n      <td>10002</td>\n      <td>(646) 504-2323</td>\n      <td>http://conartistnyc.com</td>\n      <td>MANHATTAN</td>\n      <td>40.719585</td>\n      <td>3.0</td>\n      <td>Chinatown                                     ...</td>\n      <td>4</td>\n      <td>3</td>\n      <td>5938</td>\n      <td>1.796073</td>\n    </tr>\n    <tr>\n      <th>2</th>\n      <td>3</td>\n      <td>Coffee Project New York</td>\n      <td>Coffee Shop</td>\n      <td>239 E 5th Street</td>\n      <td>New York</td>\n      <td>NY</td>\n      <td>10003</td>\n      <td>(212) 228-7888</td>\n      <td>http://www.coffeeprojectny.com</td>\n      <td>MANHATTAN</td>\n      <td>40.727345</td>\n      <td>3.0</td>\n      <td>East Village                                  ...</td>\n      <td>4</td>\n      <td>2</td>\n      <td>5379</td>\n      <td>4.117318</td>\n    </tr>\n    <tr>\n      <th>3</th>\n      <td>4</td>\n      <td>Golden Bridge Yoga</td>\n      <td>Kundalini Yoga Studio and Holistic Store with ...</td>\n      <td>253 Centre Street</td>\n      <td>New York</td>\n      <td>NY</td>\n      <td>10013</td>\n      <td>(212) 343-8191</td>\n      <td>http://www.goldenbridgeyoga.com</td>\n      <td>MANHATTAN</td>\n      <td>40.720478</td>\n      <td>2.0</td>\n      <td>SoHo-TriBeCa-Civic Center-Little Italy        ...</td>\n      <td>4</td>\n      <td>4</td>\n      <td>2270</td>\n      <td>2.943465</td>\n    </tr>\n    <tr>\n      <th>4</th>\n      <td>5</td>\n      <td>Three Guys from Brooklyn</td>\n      <td>Grocery store featuring Fresh Fruit and Vegeta...</td>\n      <td>6502 Fort Hamilton Pkwy</td>\n      <td>Brooklyn</td>\n      <td>NY</td>\n      <td>11219</td>\n      <td>(718) 748-8340</td>\n      <td>http://www.3guysfrombrooklyn.com</td>\n      <td>BROOKLYN</td>\n      <td>40.630553</td>\n      <td>10.0</td>\n      <td>Sunset Park East                              ...</td>\n      <td>0</td>\n      <td>1</td>\n      <td>6598</td>\n      <td>2.361853</td>\n    </tr>\n  </tbody>\n</table>\n</div>"
     },
     "metadata": {},
     "execution_count": 123
    }
   ],
   "source": [
    "df.head(5)"
   ]
  },
  {
   "cell_type": "code",
   "execution_count": 124,
   "metadata": {},
   "outputs": [
    {
     "output_type": "execute_result",
     "data": {
      "text/plain": [
       "2.4320374036550048"
      ]
     },
     "metadata": {},
     "execution_count": 124
    }
   ],
   "source": [
    "#C is the mean vote across the whole report.\n",
    "c = df[\"Average Rating\"].mean()\n",
    "c"
   ]
  },
  {
   "cell_type": "code",
   "execution_count": 125,
   "metadata": {},
   "outputs": [
    {
     "output_type": "execute_result",
     "data": {
      "text/plain": [
       "7415.0"
      ]
     },
     "metadata": {},
     "execution_count": 125
    }
   ],
   "source": [
    "# Calculate the minimum number of votes required to be in the list, m\n",
    "m = df[\"Number of Votes\"].quantile(0.75)\n",
    "m"
   ]
  },
  {
   "cell_type": "code",
   "execution_count": 126,
   "metadata": {},
   "outputs": [
    {
     "output_type": "execute_result",
     "data": {
      "text/plain": [
       "    ID            Name of Business Short Description              Address  \\\n",
       "6    7  Macaron Parlour - Columbus            Bakery    560 Columbus Ave.   \n",
       "11  12           Charmar Superette      Corner Store  85 Stuyvesant Place   \n",
       "14  15     Dental Smiles Unlimited           Dentist   2100 Bartow Avenue   \n",
       "\n",
       "             City State Postcode    Phone Number  \\\n",
       "6        New York    NY    10024  (212) 799-9169   \n",
       "11  Staten Island    NY    10301  (718) 981-4638   \n",
       "14          Bronx    NY    10475             NaN   \n",
       "\n",
       "           Business Website or Other URL    Borough   Latitude  \\\n",
       "6          http://www.macaronparlour.com  MANHATTAN  40.787312   \n",
       "11                                   NaN  STATEN IS  40.643865   \n",
       "14  http://WWW.DENTALSMILESUNLIMITED.COM  BRONX      40.869429   \n",
       "\n",
       "    Community Board                                                NTA  \\\n",
       "6               7.0  Upper West Side                               ...   \n",
       "11              1.0  West New Brighton-New Brighton-St. George     ...   \n",
       "14             10.0  Co-op City                                    ...   \n",
       "\n",
       "    Price Tag  Ratings  Number of Votes  Average Rating  \n",
       "6           1        1             8171        0.895808  \n",
       "11          2        3             8789        0.237420  \n",
       "14          4        2             7961        3.150889  "
      ],
      "text/html": "<div>\n<style scoped>\n    .dataframe tbody tr th:only-of-type {\n        vertical-align: middle;\n    }\n\n    .dataframe tbody tr th {\n        vertical-align: top;\n    }\n\n    .dataframe thead th {\n        text-align: right;\n    }\n</style>\n<table border=\"1\" class=\"dataframe\">\n  <thead>\n    <tr style=\"text-align: right;\">\n      <th></th>\n      <th>ID</th>\n      <th>Name of Business</th>\n      <th>Short Description</th>\n      <th>Address</th>\n      <th>City</th>\n      <th>State</th>\n      <th>Postcode</th>\n      <th>Phone Number</th>\n      <th>Business Website or Other URL</th>\n      <th>Borough</th>\n      <th>Latitude</th>\n      <th>Community Board</th>\n      <th>NTA</th>\n      <th>Price Tag</th>\n      <th>Ratings</th>\n      <th>Number of Votes</th>\n      <th>Average Rating</th>\n    </tr>\n  </thead>\n  <tbody>\n    <tr>\n      <th>6</th>\n      <td>7</td>\n      <td>Macaron Parlour - Columbus</td>\n      <td>Bakery</td>\n      <td>560 Columbus Ave.</td>\n      <td>New York</td>\n      <td>NY</td>\n      <td>10024</td>\n      <td>(212) 799-9169</td>\n      <td>http://www.macaronparlour.com</td>\n      <td>MANHATTAN</td>\n      <td>40.787312</td>\n      <td>7.0</td>\n      <td>Upper West Side                               ...</td>\n      <td>1</td>\n      <td>1</td>\n      <td>8171</td>\n      <td>0.895808</td>\n    </tr>\n    <tr>\n      <th>11</th>\n      <td>12</td>\n      <td>Charmar Superette</td>\n      <td>Corner Store</td>\n      <td>85 Stuyvesant Place</td>\n      <td>Staten Island</td>\n      <td>NY</td>\n      <td>10301</td>\n      <td>(718) 981-4638</td>\n      <td>NaN</td>\n      <td>STATEN IS</td>\n      <td>40.643865</td>\n      <td>1.0</td>\n      <td>West New Brighton-New Brighton-St. George     ...</td>\n      <td>2</td>\n      <td>3</td>\n      <td>8789</td>\n      <td>0.237420</td>\n    </tr>\n    <tr>\n      <th>14</th>\n      <td>15</td>\n      <td>Dental Smiles Unlimited</td>\n      <td>Dentist</td>\n      <td>2100 Bartow Avenue</td>\n      <td>Bronx</td>\n      <td>NY</td>\n      <td>10475</td>\n      <td>NaN</td>\n      <td>http://WWW.DENTALSMILESUNLIMITED.COM</td>\n      <td>BRONX</td>\n      <td>40.869429</td>\n      <td>10.0</td>\n      <td>Co-op City                                    ...</td>\n      <td>4</td>\n      <td>2</td>\n      <td>7961</td>\n      <td>3.150889</td>\n    </tr>\n  </tbody>\n</table>\n</div>"
     },
     "metadata": {},
     "execution_count": 126
    }
   ],
   "source": [
    "# Filter out all qualified stores into a new DataFrame\n",
    "q_stores = df.copy().loc[df['Number of Votes'] >= m]\n",
    "q_stores.shape\n",
    "q_stores.head(3)"
   ]
  },
  {
   "cell_type": "code",
   "execution_count": 127,
   "metadata": {},
   "outputs": [],
   "source": [
    "#Next and the most important step is to calculate the weighted rating for each qualified movie\n",
    "# Function that computes the weighted rating of each movie\n",
    "def weighted_rating(x, m=m, C=c):\n",
    "    v = x['Number of Votes']\n",
    "    R = x['Average Rating']\n",
    "    # Calculation\n",
    "    return (v/(v+m) * R) + (m/(m+v) * C)"
   ]
  },
  {
   "cell_type": "code",
   "execution_count": 128,
   "metadata": {},
   "outputs": [],
   "source": [
    "q_stores[\"score\"] = q_stores.apply(weighted_rating, axis =1)\n"
   ]
  },
  {
   "cell_type": "code",
   "execution_count": 129,
   "metadata": {},
   "outputs": [],
   "source": [
    "#Sort stores based on score calculated above\n",
    "q_stores = q_stores.sort_values('score', ascending=False)"
   ]
  },
  {
   "cell_type": "code",
   "execution_count": 130,
   "metadata": {},
   "outputs": [
    {
     "output_type": "execute_result",
     "data": {
      "text/plain": [
       "        ID          Name of Business  \\\n",
       "871    869           Champion Coffee   \n",
       "604    604                 DOG & CO.   \n",
       "1434  1435  Corkscrew Wines Brooklyn   \n",
       "1056  1054                   Fung Tu   \n",
       "1180  1179     The Brooklyn Greenery   \n",
       "1227  1226   The Fat Cardinal Bakery   \n",
       "1232  1231  Twin Grocery & Salad Bar   \n",
       "1176  1175                  ZoomThru   \n",
       "587    587             AAAS Services   \n",
       "1802  1803           Filtered Coffee   \n",
       "1799  1800                 Expo 2000   \n",
       "1311  1311       Sundaes By The Park   \n",
       "537    537             Brooklyn Bell   \n",
       "225    225               Irish Haven   \n",
       "1263  1262                Yudi Salon   \n",
       "1393  1394              Lice Busters   \n",
       "124    125     Crom Physical Culture   \n",
       "710    711                  Treshers   \n",
       "1401  1402              Gnarly Vines   \n",
       "899    899         City Brewshop LLC   \n",
       "\n",
       "                                      Short Description  \\\n",
       "871                                         Coffee Shop   \n",
       "604                                  Pet Specialty Shop   \n",
       "1434      \"Wine shop focusing on female wine producers\"   \n",
       "1056                        Chinese-American Restaurant   \n",
       "1180                                      Smoothie shop   \n",
       "1227                                             Bakery   \n",
       "1232                                               Deli   \n",
       "1176                          Parking Data Distribution   \n",
       "587   Web Design, Marketing for small businesses & N...   \n",
       "1802  \"Local coffee shop offering pastries and light...   \n",
       "1799                           \"Women's clothing store\"   \n",
       "1311                                                NaN   \n",
       "537                                      Ice cream shop   \n",
       "225                                                 Pub   \n",
       "1263                                              Salon   \n",
       "1393                                         Hair Salon   \n",
       "124                         Gym/Physical Fitness Center   \n",
       "710                                   Scuba diving shop   \n",
       "1401               \"Neighborhood Wine and Spirits shop\"   \n",
       "899                \"Beer hobby retail and service shop\"   \n",
       "\n",
       "                       Address           City State Postcode     Phone Number  \\\n",
       "871          142 Nassau Avenue       Brooklyn    NY    11222   (718) 383-3251   \n",
       "604        1000S Eighth Avenue       New York    NY    10019              NaN   \n",
       "1434         489 Myrtle Avenue       Brooklyn    NY      NaN   (718) 230-9463   \n",
       "1056         22 Orchard Street       New York    NY    10002              NaN   \n",
       "1180       560 Flatbush Avenue       Brooklyn    NY    11225   (347) 240-0986   \n",
       "1227  9610 Rockaway Beach Blvd       Rockaway    NY    11692   (347) 989-4322   \n",
       "1232     15 Westchester Square          Bronx    NY    10461   (718) 824-1313   \n",
       "1176        335 Madison Avenue      Manhattan    NY    10017   (413) 347-0090   \n",
       "587        178 Columbus Avenue       New York    NY    10023   (917) 410-0154   \n",
       "1802             4300 Broadway       New York    NY    10033   (917) 475-1120   \n",
       "1799    2856-2866 Third Avenue          Bronx    NY    10455   (718) 292-5505   \n",
       "1311             3512 Avenue S       Brooklyn    NY    11234   (718) 787-1104   \n",
       "537         843 Classon Avenue       Brooklyn    NY    11238   (718) 309-2631   \n",
       "225         5721 Fourth Avenue       Brooklyn    NY    11220   (718) 439-9893   \n",
       "1263  2710 East Tremont Avenue          Bronx    NY    10461   (347) 621-4360   \n",
       "1393        145 Sterling Place       Brooklyn    NY    11217   (347) 276-0016   \n",
       "124      217 Beach 92nd Street   Far Rockaway    NY    11693   (718) 945-1700   \n",
       "710             186 Robin Road  Staten Island    NY    10305   (718) 442-4402   \n",
       "1401         350 Myrtle Avenue       Brooklyn    NY    11205   (718) 797-3183   \n",
       "899      700 Washington Avenue       Brooklyn    NY    11238              NaN   \n",
       "\n",
       "                          Business Website or Other URL    Borough   Latitude  \\\n",
       "871                       http://www.championcoffee.net  BROOKLYN   40.724800   \n",
       "604                         http://www.shopdogandco.com  MANHATTAN  40.766819   \n",
       "1434                   http://Www.corkscrewbrooklyn.com  MANHATTAN        NaN   \n",
       "1056                                  http://fungtu.com  MANHATTAN  40.715430   \n",
       "1180                              http://bkgreenery.com  BROOKLYN   40.660177   \n",
       "1227                   http://www.fatcardinalbakery.com  QUEENS     40.585233   \n",
       "1232                                                NaN  BRONX      40.841360   \n",
       "1176                             http://Www.zoomthru.co  MANHATTAN  40.753715   \n",
       "587                                                 NaN  MANHATTAN  40.774762   \n",
       "1802             https://m.facebook.com/FilteredNewYork  MANHATTAN  40.851482   \n",
       "1799             https://www.facebook.com/9jsouthbronx/  BRONX      40.816212   \n",
       "1311  https://www.facebook.com/Sundaes-By-The-Park-C...  BROOKLYN   40.609374   \n",
       "537                        http://www.brooklynbell.com/  BROOKLYN   40.671966   \n",
       "225   https://www.facebook.com/pages/Irish-Haven/561...  BROOKLYN   40.642380   \n",
       "1263                                                NaN  BRONX      40.842570   \n",
       "1393                      http://www.licebustersnyc.com  BROOKLYN   40.676929   \n",
       "124                               http://www.crompc.com  QUEENS     40.586615   \n",
       "710                  https://www.facebook.com/Treshers/  STATEN IS  40.592683   \n",
       "1401                         http://www.gnarlyvines.com  BROOKLYN   40.693222   \n",
       "899                      http://www.bitterandesters.com  BROOKLYN   40.677036   \n",
       "\n",
       "      Community Board                                                NTA  \\\n",
       "871               1.0  Greenpoint                                    ...   \n",
       "604               4.0  Clinton                                       ...   \n",
       "1434              NaN  SoHo-TriBeCa-Civic Center-Little Italy        ...   \n",
       "1056              3.0  Chinatown                                     ...   \n",
       "1180              9.0  Prospect Lefferts Gardens-Wingate             ...   \n",
       "1227             14.0  Breezy Point-Belle Harbor-Rockaway Park-Broad ...   \n",
       "1232             10.0  Van Nest-Morris Park-Westchester Square       ...   \n",
       "1176              5.0  Midtown-Midtown South                         ...   \n",
       "587               7.0  Lincoln Square                                ...   \n",
       "1802             12.0  Washington Heights North                      ...   \n",
       "1799              1.0  Melrose South-Mott Haven North                ...   \n",
       "1311             18.0  Georgetown-Marine Park-Bergen Beach-Mill Basin...   \n",
       "537               8.0  Crown Heights North                           ...   \n",
       "225               7.0  Sunset Park West                              ...   \n",
       "1263             10.0  Van Nest-Morris Park-Westchester Square       ...   \n",
       "1393              6.0  Prospect Heights                              ...   \n",
       "124              14.0  Hammels-Arverne-Edgemere                      ...   \n",
       "710               2.0  Grasmere-Arrochar-Ft. Wadsworth               ...   \n",
       "1401              2.0  Fort Greene                                   ...   \n",
       "899               8.0  Prospect Heights                              ...   \n",
       "\n",
       "      Price Tag  Ratings  Number of Votes  Average Rating     score  \n",
       "871           1        4             9886        4.924811  3.856438  \n",
       "604           5        1             9445        4.914616  3.822782  \n",
       "1434          3        2             9701        4.884567  3.822081  \n",
       "1056          1        1             9836        4.824597  3.796203  \n",
       "1180          5        4             8449        4.973399  3.785540  \n",
       "1227          3        2             9032        4.880014  3.776363  \n",
       "1232          4        1             8482        4.947481  3.774177  \n",
       "1176          3        5             9233        4.836866  3.765758  \n",
       "587           1        2             9921        4.762308  3.765598  \n",
       "1802          5        1             8038        4.975974  3.755286  \n",
       "1799          3        4             9079        4.825912  3.749728  \n",
       "1311          0        1             9415        4.786126  3.748956  \n",
       "537           4        5             7947        4.975299  3.747706  \n",
       "225           0        3             9349        4.782708  3.742967  \n",
       "1263          2        5             9473        4.762245  3.739123  \n",
       "1393          0        1             9527        4.712394  3.714351  \n",
       "124           2        2             9328        4.731758  3.713277  \n",
       "710           2        5             9227        4.742361  3.712974  \n",
       "1401          4        2             8354        4.838152  3.706733  \n",
       "899           3        1             8778        4.769634  3.699216  "
      ],
      "text/html": "<div>\n<style scoped>\n    .dataframe tbody tr th:only-of-type {\n        vertical-align: middle;\n    }\n\n    .dataframe tbody tr th {\n        vertical-align: top;\n    }\n\n    .dataframe thead th {\n        text-align: right;\n    }\n</style>\n<table border=\"1\" class=\"dataframe\">\n  <thead>\n    <tr style=\"text-align: right;\">\n      <th></th>\n      <th>ID</th>\n      <th>Name of Business</th>\n      <th>Short Description</th>\n      <th>Address</th>\n      <th>City</th>\n      <th>State</th>\n      <th>Postcode</th>\n      <th>Phone Number</th>\n      <th>Business Website or Other URL</th>\n      <th>Borough</th>\n      <th>Latitude</th>\n      <th>Community Board</th>\n      <th>NTA</th>\n      <th>Price Tag</th>\n      <th>Ratings</th>\n      <th>Number of Votes</th>\n      <th>Average Rating</th>\n      <th>score</th>\n    </tr>\n  </thead>\n  <tbody>\n    <tr>\n      <th>871</th>\n      <td>869</td>\n      <td>Champion Coffee</td>\n      <td>Coffee Shop</td>\n      <td>142 Nassau Avenue</td>\n      <td>Brooklyn</td>\n      <td>NY</td>\n      <td>11222</td>\n      <td>(718) 383-3251</td>\n      <td>http://www.championcoffee.net</td>\n      <td>BROOKLYN</td>\n      <td>40.724800</td>\n      <td>1.0</td>\n      <td>Greenpoint                                    ...</td>\n      <td>1</td>\n      <td>4</td>\n      <td>9886</td>\n      <td>4.924811</td>\n      <td>3.856438</td>\n    </tr>\n    <tr>\n      <th>604</th>\n      <td>604</td>\n      <td>DOG &amp; CO.</td>\n      <td>Pet Specialty Shop</td>\n      <td>1000S Eighth Avenue</td>\n      <td>New York</td>\n      <td>NY</td>\n      <td>10019</td>\n      <td>NaN</td>\n      <td>http://www.shopdogandco.com</td>\n      <td>MANHATTAN</td>\n      <td>40.766819</td>\n      <td>4.0</td>\n      <td>Clinton                                       ...</td>\n      <td>5</td>\n      <td>1</td>\n      <td>9445</td>\n      <td>4.914616</td>\n      <td>3.822782</td>\n    </tr>\n    <tr>\n      <th>1434</th>\n      <td>1435</td>\n      <td>Corkscrew Wines Brooklyn</td>\n      <td>\"Wine shop focusing on female wine producers\"</td>\n      <td>489 Myrtle Avenue</td>\n      <td>Brooklyn</td>\n      <td>NY</td>\n      <td>NaN</td>\n      <td>(718) 230-9463</td>\n      <td>http://Www.corkscrewbrooklyn.com</td>\n      <td>MANHATTAN</td>\n      <td>NaN</td>\n      <td>NaN</td>\n      <td>SoHo-TriBeCa-Civic Center-Little Italy        ...</td>\n      <td>3</td>\n      <td>2</td>\n      <td>9701</td>\n      <td>4.884567</td>\n      <td>3.822081</td>\n    </tr>\n    <tr>\n      <th>1056</th>\n      <td>1054</td>\n      <td>Fung Tu</td>\n      <td>Chinese-American Restaurant</td>\n      <td>22 Orchard Street</td>\n      <td>New York</td>\n      <td>NY</td>\n      <td>10002</td>\n      <td>NaN</td>\n      <td>http://fungtu.com</td>\n      <td>MANHATTAN</td>\n      <td>40.715430</td>\n      <td>3.0</td>\n      <td>Chinatown                                     ...</td>\n      <td>1</td>\n      <td>1</td>\n      <td>9836</td>\n      <td>4.824597</td>\n      <td>3.796203</td>\n    </tr>\n    <tr>\n      <th>1180</th>\n      <td>1179</td>\n      <td>The Brooklyn Greenery</td>\n      <td>Smoothie shop</td>\n      <td>560 Flatbush Avenue</td>\n      <td>Brooklyn</td>\n      <td>NY</td>\n      <td>11225</td>\n      <td>(347) 240-0986</td>\n      <td>http://bkgreenery.com</td>\n      <td>BROOKLYN</td>\n      <td>40.660177</td>\n      <td>9.0</td>\n      <td>Prospect Lefferts Gardens-Wingate             ...</td>\n      <td>5</td>\n      <td>4</td>\n      <td>8449</td>\n      <td>4.973399</td>\n      <td>3.785540</td>\n    </tr>\n    <tr>\n      <th>1227</th>\n      <td>1226</td>\n      <td>The Fat Cardinal Bakery</td>\n      <td>Bakery</td>\n      <td>9610 Rockaway Beach Blvd</td>\n      <td>Rockaway</td>\n      <td>NY</td>\n      <td>11692</td>\n      <td>(347) 989-4322</td>\n      <td>http://www.fatcardinalbakery.com</td>\n      <td>QUEENS</td>\n      <td>40.585233</td>\n      <td>14.0</td>\n      <td>Breezy Point-Belle Harbor-Rockaway Park-Broad ...</td>\n      <td>3</td>\n      <td>2</td>\n      <td>9032</td>\n      <td>4.880014</td>\n      <td>3.776363</td>\n    </tr>\n    <tr>\n      <th>1232</th>\n      <td>1231</td>\n      <td>Twin Grocery &amp; Salad Bar</td>\n      <td>Deli</td>\n      <td>15 Westchester Square</td>\n      <td>Bronx</td>\n      <td>NY</td>\n      <td>10461</td>\n      <td>(718) 824-1313</td>\n      <td>NaN</td>\n      <td>BRONX</td>\n      <td>40.841360</td>\n      <td>10.0</td>\n      <td>Van Nest-Morris Park-Westchester Square       ...</td>\n      <td>4</td>\n      <td>1</td>\n      <td>8482</td>\n      <td>4.947481</td>\n      <td>3.774177</td>\n    </tr>\n    <tr>\n      <th>1176</th>\n      <td>1175</td>\n      <td>ZoomThru</td>\n      <td>Parking Data Distribution</td>\n      <td>335 Madison Avenue</td>\n      <td>Manhattan</td>\n      <td>NY</td>\n      <td>10017</td>\n      <td>(413) 347-0090</td>\n      <td>http://Www.zoomthru.co</td>\n      <td>MANHATTAN</td>\n      <td>40.753715</td>\n      <td>5.0</td>\n      <td>Midtown-Midtown South                         ...</td>\n      <td>3</td>\n      <td>5</td>\n      <td>9233</td>\n      <td>4.836866</td>\n      <td>3.765758</td>\n    </tr>\n    <tr>\n      <th>587</th>\n      <td>587</td>\n      <td>AAAS Services</td>\n      <td>Web Design, Marketing for small businesses &amp; N...</td>\n      <td>178 Columbus Avenue</td>\n      <td>New York</td>\n      <td>NY</td>\n      <td>10023</td>\n      <td>(917) 410-0154</td>\n      <td>NaN</td>\n      <td>MANHATTAN</td>\n      <td>40.774762</td>\n      <td>7.0</td>\n      <td>Lincoln Square                                ...</td>\n      <td>1</td>\n      <td>2</td>\n      <td>9921</td>\n      <td>4.762308</td>\n      <td>3.765598</td>\n    </tr>\n    <tr>\n      <th>1802</th>\n      <td>1803</td>\n      <td>Filtered Coffee</td>\n      <td>\"Local coffee shop offering pastries and light...</td>\n      <td>4300 Broadway</td>\n      <td>New York</td>\n      <td>NY</td>\n      <td>10033</td>\n      <td>(917) 475-1120</td>\n      <td>https://m.facebook.com/FilteredNewYork</td>\n      <td>MANHATTAN</td>\n      <td>40.851482</td>\n      <td>12.0</td>\n      <td>Washington Heights North                      ...</td>\n      <td>5</td>\n      <td>1</td>\n      <td>8038</td>\n      <td>4.975974</td>\n      <td>3.755286</td>\n    </tr>\n    <tr>\n      <th>1799</th>\n      <td>1800</td>\n      <td>Expo 2000</td>\n      <td>\"Women's clothing store\"</td>\n      <td>2856-2866 Third Avenue</td>\n      <td>Bronx</td>\n      <td>NY</td>\n      <td>10455</td>\n      <td>(718) 292-5505</td>\n      <td>https://www.facebook.com/9jsouthbronx/</td>\n      <td>BRONX</td>\n      <td>40.816212</td>\n      <td>1.0</td>\n      <td>Melrose South-Mott Haven North                ...</td>\n      <td>3</td>\n      <td>4</td>\n      <td>9079</td>\n      <td>4.825912</td>\n      <td>3.749728</td>\n    </tr>\n    <tr>\n      <th>1311</th>\n      <td>1311</td>\n      <td>Sundaes By The Park</td>\n      <td>NaN</td>\n      <td>3512 Avenue S</td>\n      <td>Brooklyn</td>\n      <td>NY</td>\n      <td>11234</td>\n      <td>(718) 787-1104</td>\n      <td>https://www.facebook.com/Sundaes-By-The-Park-C...</td>\n      <td>BROOKLYN</td>\n      <td>40.609374</td>\n      <td>18.0</td>\n      <td>Georgetown-Marine Park-Bergen Beach-Mill Basin...</td>\n      <td>0</td>\n      <td>1</td>\n      <td>9415</td>\n      <td>4.786126</td>\n      <td>3.748956</td>\n    </tr>\n    <tr>\n      <th>537</th>\n      <td>537</td>\n      <td>Brooklyn Bell</td>\n      <td>Ice cream shop</td>\n      <td>843 Classon Avenue</td>\n      <td>Brooklyn</td>\n      <td>NY</td>\n      <td>11238</td>\n      <td>(718) 309-2631</td>\n      <td>http://www.brooklynbell.com/</td>\n      <td>BROOKLYN</td>\n      <td>40.671966</td>\n      <td>8.0</td>\n      <td>Crown Heights North                           ...</td>\n      <td>4</td>\n      <td>5</td>\n      <td>7947</td>\n      <td>4.975299</td>\n      <td>3.747706</td>\n    </tr>\n    <tr>\n      <th>225</th>\n      <td>225</td>\n      <td>Irish Haven</td>\n      <td>Pub</td>\n      <td>5721 Fourth Avenue</td>\n      <td>Brooklyn</td>\n      <td>NY</td>\n      <td>11220</td>\n      <td>(718) 439-9893</td>\n      <td>https://www.facebook.com/pages/Irish-Haven/561...</td>\n      <td>BROOKLYN</td>\n      <td>40.642380</td>\n      <td>7.0</td>\n      <td>Sunset Park West                              ...</td>\n      <td>0</td>\n      <td>3</td>\n      <td>9349</td>\n      <td>4.782708</td>\n      <td>3.742967</td>\n    </tr>\n    <tr>\n      <th>1263</th>\n      <td>1262</td>\n      <td>Yudi Salon</td>\n      <td>Salon</td>\n      <td>2710 East Tremont Avenue</td>\n      <td>Bronx</td>\n      <td>NY</td>\n      <td>10461</td>\n      <td>(347) 621-4360</td>\n      <td>NaN</td>\n      <td>BRONX</td>\n      <td>40.842570</td>\n      <td>10.0</td>\n      <td>Van Nest-Morris Park-Westchester Square       ...</td>\n      <td>2</td>\n      <td>5</td>\n      <td>9473</td>\n      <td>4.762245</td>\n      <td>3.739123</td>\n    </tr>\n    <tr>\n      <th>1393</th>\n      <td>1394</td>\n      <td>Lice Busters</td>\n      <td>Hair Salon</td>\n      <td>145 Sterling Place</td>\n      <td>Brooklyn</td>\n      <td>NY</td>\n      <td>11217</td>\n      <td>(347) 276-0016</td>\n      <td>http://www.licebustersnyc.com</td>\n      <td>BROOKLYN</td>\n      <td>40.676929</td>\n      <td>6.0</td>\n      <td>Prospect Heights                              ...</td>\n      <td>0</td>\n      <td>1</td>\n      <td>9527</td>\n      <td>4.712394</td>\n      <td>3.714351</td>\n    </tr>\n    <tr>\n      <th>124</th>\n      <td>125</td>\n      <td>Crom Physical Culture</td>\n      <td>Gym/Physical Fitness Center</td>\n      <td>217 Beach 92nd Street</td>\n      <td>Far Rockaway</td>\n      <td>NY</td>\n      <td>11693</td>\n      <td>(718) 945-1700</td>\n      <td>http://www.crompc.com</td>\n      <td>QUEENS</td>\n      <td>40.586615</td>\n      <td>14.0</td>\n      <td>Hammels-Arverne-Edgemere                      ...</td>\n      <td>2</td>\n      <td>2</td>\n      <td>9328</td>\n      <td>4.731758</td>\n      <td>3.713277</td>\n    </tr>\n    <tr>\n      <th>710</th>\n      <td>711</td>\n      <td>Treshers</td>\n      <td>Scuba diving shop</td>\n      <td>186 Robin Road</td>\n      <td>Staten Island</td>\n      <td>NY</td>\n      <td>10305</td>\n      <td>(718) 442-4402</td>\n      <td>https://www.facebook.com/Treshers/</td>\n      <td>STATEN IS</td>\n      <td>40.592683</td>\n      <td>2.0</td>\n      <td>Grasmere-Arrochar-Ft. Wadsworth               ...</td>\n      <td>2</td>\n      <td>5</td>\n      <td>9227</td>\n      <td>4.742361</td>\n      <td>3.712974</td>\n    </tr>\n    <tr>\n      <th>1401</th>\n      <td>1402</td>\n      <td>Gnarly Vines</td>\n      <td>\"Neighborhood Wine and Spirits shop\"</td>\n      <td>350 Myrtle Avenue</td>\n      <td>Brooklyn</td>\n      <td>NY</td>\n      <td>11205</td>\n      <td>(718) 797-3183</td>\n      <td>http://www.gnarlyvines.com</td>\n      <td>BROOKLYN</td>\n      <td>40.693222</td>\n      <td>2.0</td>\n      <td>Fort Greene                                   ...</td>\n      <td>4</td>\n      <td>2</td>\n      <td>8354</td>\n      <td>4.838152</td>\n      <td>3.706733</td>\n    </tr>\n    <tr>\n      <th>899</th>\n      <td>899</td>\n      <td>City Brewshop LLC</td>\n      <td>\"Beer hobby retail and service shop\"</td>\n      <td>700 Washington Avenue</td>\n      <td>Brooklyn</td>\n      <td>NY</td>\n      <td>11238</td>\n      <td>NaN</td>\n      <td>http://www.bitterandesters.com</td>\n      <td>BROOKLYN</td>\n      <td>40.677036</td>\n      <td>8.0</td>\n      <td>Prospect Heights                              ...</td>\n      <td>3</td>\n      <td>1</td>\n      <td>8778</td>\n      <td>4.769634</td>\n      <td>3.699216</td>\n    </tr>\n  </tbody>\n</table>\n</div>"
     },
     "metadata": {},
     "execution_count": 130
    }
   ],
   "source": [
    "#Finally, let's sort the DataFrame in descending order based on the score feature column and output the title, vote count, vote average, and weighted rating (score) of the top 20 movies.\n",
    "#Sort movies based on score calculated above\n",
    "q_stores = q_stores.sort_values('score', ascending=False)\n",
    "\n",
    "#Print the top 15 movies\n",
    "q_stores.head(20)"
   ]
  },
  {
   "cell_type": "code",
   "execution_count": null,
   "metadata": {},
   "outputs": [],
   "source": []
  }
 ]
}